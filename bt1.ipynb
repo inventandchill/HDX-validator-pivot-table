{
 "cells": [
  {
   "cell_type": "code",
   "execution_count": 1,
   "metadata": {},
   "outputs": [],
   "source": [
    "import pandas as pd\n",
    "import sys \n",
    "import pandas as pd\n",
    "from io import StringIO\n",
    "#from selenium import webdriver\n",
    "import json"
   ]
  },
  {
   "cell_type": "code",
   "execution_count": 2,
   "metadata": {},
   "outputs": [],
   "source": [
    "#nominator-validator link\n",
    "#staking.nominators: Option<Nominations> \n",
    "\n",
    "#list 1-1\n",
    "#staking.bonded: Option<AccountId>\n",
    "\n",
    "#staked \n",
    "#balances.locks: Vec<BalanceLock>\n",
    "\n",
    "#identity\n",
    "#identity.identityOf: Option<Registration>\n",
    "\n",
    "#prefs\n",
    "#validators(AccountId): ValidatorPrefs\n",
    "\n",
    "#staking.erasValidatorPrefs: ValidatorPrefs\n",
    "#staking.erasStakers: Exposure"
   ]
  },
  {
   "cell_type": "code",
   "execution_count": 3,
   "metadata": {},
   "outputs": [],
   "source": [
    "lock_list = list()\n",
    "\n",
    "with open (r\".\\20210412\\locks.txt\") as f:\n",
    "  lines = f.readlines()\n",
    "  for line in lines:\n",
    "      words = line.split()\n",
    "      for word in words:\n",
    "          #print (word)\n",
    "          #df = pd.DataFrame(columns=['string_values'])\n",
    "          #df_source = df_source.append({'string_values': word}, ignore_index=True)\n",
    "          lock_list.append(word)\n",
    "\n",
    "lock_df=pd.DataFrame(lock_list, columns=['string_values'])"
   ]
  },
  {
   "cell_type": "code",
   "execution_count": 4,
   "metadata": {},
   "outputs": [],
   "source": [
    "#phrelect,\n",
    "lock_df1=lock_df[(lock_df['string_values'] != \"[\") & \n",
    "                     (lock_df['string_values'] != \"]\") & \n",
    "                     (lock_df['string_values'] != \"],\") & \n",
    "                     (lock_df['string_values'] != \",\") & \n",
    "                     (lock_df['string_values'] != \"All\") & \n",
    "                     (lock_df['string_values'] != \"amount:\") & \n",
    "                     (lock_df['string_values'] != \"reasons:\") & \n",
    "                     (lock_df['string_values'] != \"id:\") & \n",
    "                     (lock_df['string_values'] != \"{\") & \n",
    "                     (lock_df['string_values'] != \"}\") & \n",
    "                     (lock_df['string_values'] != \"},\") #& \n",
    "                     #(lock_df['string_values'] != \"staking\") \n",
    "                     ].copy()\n",
    "lock_df1.reset_index(inplace=True, drop = False)"
   ]
  },
  {
   "cell_type": "code",
   "execution_count": 5,
   "metadata": {},
   "outputs": [],
   "source": [
    "i = 0 \n",
    "length_data = lock_df1.shape[0]\n",
    "lock_list1 = list()\n",
    "\n",
    "while (i + 4 < length_data):    \n",
    "    if (lock_df1.at[i+1, 'string_values'] == \"staking\"):\n",
    "        if   (lock_df1.at[i+3, 'string_values'] == \"HDX,\"):\n",
    "            lock_list1.append((lock_df1.at[i, 'string_values'], float(lock_df1.at[i+2, 'string_values'])))\n",
    "        elif (lock_df1.at[i+3, 'string_values'] == \"kHDX,\"):\n",
    "            lock_list1.append((lock_df1.at[i, 'string_values'], float(lock_df1.at[i+2, 'string_values']) * 1000))\n",
    "        elif (lock_df1.at[i+3, 'string_values'] == \"MHDX,\"):\n",
    "            lock_list1.append((lock_df1.at[i, 'string_values'], float(lock_df1.at[i+2, 'string_values']) * 1000000))\n",
    "    i = i + 1\n",
    "    \n",
    "lock_df2 = pd.DataFrame(lock_list1, columns =['lock_nominator', 'lock_stake'])"
   ]
  },
  {
   "cell_type": "code",
   "execution_count": 6,
   "metadata": {},
   "outputs": [
    {
     "output_type": "execute_result",
     "data": {
      "text/plain": [
       "                                     lock_nominator  lock_stake\n",
       "0  7JZpnvsVW1P5HTr168zoqZK5qvTdWbGvq1fKNe39taZG9gAV     11213.4\n",
       "1  7HsHt7AU21aJTW3EjPJqjcVjpNAMA4yyFddUSBN8TayEbPC9     15500.0\n",
       "2  7N8kScJF9BJ1duMTa4UppEN6MnCzU69MLVPJsoSJzFTVRT5E     14375.0\n",
       "3  7LEgaS2J8K9qdVivwoLm6oapdH1Rxi12dvgopoLrMtXLpngX      1000.0\n",
       "4  7MBqPFCzHxoYbiPdFF5MFbR1aNN5G8MdnnjvCtiK9FjVq1cM    510379.8"
      ],
      "text/html": "<div>\n<style scoped>\n    .dataframe tbody tr th:only-of-type {\n        vertical-align: middle;\n    }\n\n    .dataframe tbody tr th {\n        vertical-align: top;\n    }\n\n    .dataframe thead th {\n        text-align: right;\n    }\n</style>\n<table border=\"1\" class=\"dataframe\">\n  <thead>\n    <tr style=\"text-align: right;\">\n      <th></th>\n      <th>lock_nominator</th>\n      <th>lock_stake</th>\n    </tr>\n  </thead>\n  <tbody>\n    <tr>\n      <th>0</th>\n      <td>7JZpnvsVW1P5HTr168zoqZK5qvTdWbGvq1fKNe39taZG9gAV</td>\n      <td>11213.4</td>\n    </tr>\n    <tr>\n      <th>1</th>\n      <td>7HsHt7AU21aJTW3EjPJqjcVjpNAMA4yyFddUSBN8TayEbPC9</td>\n      <td>15500.0</td>\n    </tr>\n    <tr>\n      <th>2</th>\n      <td>7N8kScJF9BJ1duMTa4UppEN6MnCzU69MLVPJsoSJzFTVRT5E</td>\n      <td>14375.0</td>\n    </tr>\n    <tr>\n      <th>3</th>\n      <td>7LEgaS2J8K9qdVivwoLm6oapdH1Rxi12dvgopoLrMtXLpngX</td>\n      <td>1000.0</td>\n    </tr>\n    <tr>\n      <th>4</th>\n      <td>7MBqPFCzHxoYbiPdFF5MFbR1aNN5G8MdnnjvCtiK9FjVq1cM</td>\n      <td>510379.8</td>\n    </tr>\n  </tbody>\n</table>\n</div>"
     },
     "metadata": {},
     "execution_count": 6
    }
   ],
   "source": [
    "lock_df2.head()"
   ]
  },
  {
   "cell_type": "code",
   "execution_count": 7,
   "metadata": {},
   "outputs": [],
   "source": [
    "nomval_list = list()\n",
    "\n",
    "with open (r\".\\20210412\\nominators.txt\") as f:\n",
    "  lines = f.readlines()\n",
    "  for line in lines:\n",
    "      words = line.split()\n",
    "      for word in words:\n",
    "          nomval_list.append(word)\n",
    "\n",
    "nomval_df=pd.DataFrame(nomval_list, columns=['string_values'])"
   ]
  },
  {
   "cell_type": "code",
   "execution_count": 8,
   "metadata": {},
   "outputs": [],
   "source": [
    "nomval_df1=nomval_df[(nomval_df['string_values'] != \"[\") & \n",
    "                     (nomval_df['string_values'] != \"]\") & \n",
    "                     (nomval_df['string_values'] != \"],\") & \n",
    "                     (nomval_df['string_values'] != \",\") & \n",
    "                     (nomval_df['string_values'] != \"All\") & \n",
    "                     (nomval_df['string_values'] != \"amount:\") & \n",
    "                     (nomval_df['string_values'] != \"reasons:\") & \n",
    "                     (nomval_df['string_values'] != \"id:\") & \n",
    "                     (nomval_df['string_values'] != \"{\") & \n",
    "                     (nomval_df['string_values'] != \"}\") &                      \n",
    "                     (nomval_df['string_values'] != \"submittedIn:\") &                      \n",
    "                     (nomval_df['string_values'] != \"suppressed:\") &     \n",
    "                     (nomval_df['string_values'] != \"targets:\") &                  \n",
    "                     (nomval_df['string_values'] != \"false\") & \n",
    "                     (nomval_df['string_values'] != \"staking\") \n",
    "                     ].copy()\n",
    "nomval_df1.reset_index(inplace=True, drop = False)"
   ]
  },
  {
   "cell_type": "code",
   "execution_count": 9,
   "metadata": {},
   "outputs": [],
   "source": [
    "i = 0 \n",
    "length_data = nomval_df1.shape[0]\n",
    "nomval_list1 = list()\n",
    "\n",
    "while (i < length_data):\n",
    "    j=i+1\n",
    "    while (nomval_df1.at[j, 'string_values'] != \"0,\"): \n",
    "        nomval_list1.append((nomval_df1.at[i, 'string_values'].replace(',',''), nomval_df1.at[j, 'string_values'].replace(',','')))\n",
    "        j=j+1\n",
    "    i=j+1 \n",
    "    \n",
    "nomval_df2 = pd.DataFrame(nomval_list1, columns =['nv_nominator', 'nv_validator'])"
   ]
  },
  {
   "cell_type": "code",
   "execution_count": 10,
   "metadata": {},
   "outputs": [
    {
     "output_type": "execute_result",
     "data": {
      "text/plain": [
       "                                       nv_nominator  \\\n",
       "0  7LKTaxTPdY3k1a5RPhRwiDjX1jdtdqiAS9i9dqCB85Ly2ftT   \n",
       "1  7LKTaxTPdY3k1a5RPhRwiDjX1jdtdqiAS9i9dqCB85Ly2ftT   \n",
       "2  7NUsZPebwLKSseaxGvUsq9dL4xjSgtUWcvCaeqZEEMLNAB7q   \n",
       "3  7NUsZPebwLKSseaxGvUsq9dL4xjSgtUWcvCaeqZEEMLNAB7q   \n",
       "4  7NUsZPebwLKSseaxGvUsq9dL4xjSgtUWcvCaeqZEEMLNAB7q   \n",
       "\n",
       "                                       nv_validator  \n",
       "0  7Kb7QZj8t6k8JzoLcBnC5JuS87hya6tXFNpcq5jTXPr6aQ7y  \n",
       "1  7Jt7Gnrue5rY1fWiwLKjuACqWvc7TXKXwB5Au3fGTaa6bW7M  \n",
       "2  7LeAuXae35f84yxEpsS7zKa6etuVVEun4hr1Y6vsaFzx77GY  \n",
       "3  7Ni7k6VzmMamc5XixohFCmMYe6WYeqqgkqSGhupA8FMEhHFP  \n",
       "4  7MxJ9E1Ni6tx94DnV9mJCn6eVjqYgtvXz395M1kK94dii6qm  "
      ],
      "text/html": "<div>\n<style scoped>\n    .dataframe tbody tr th:only-of-type {\n        vertical-align: middle;\n    }\n\n    .dataframe tbody tr th {\n        vertical-align: top;\n    }\n\n    .dataframe thead th {\n        text-align: right;\n    }\n</style>\n<table border=\"1\" class=\"dataframe\">\n  <thead>\n    <tr style=\"text-align: right;\">\n      <th></th>\n      <th>nv_nominator</th>\n      <th>nv_validator</th>\n    </tr>\n  </thead>\n  <tbody>\n    <tr>\n      <th>0</th>\n      <td>7LKTaxTPdY3k1a5RPhRwiDjX1jdtdqiAS9i9dqCB85Ly2ftT</td>\n      <td>7Kb7QZj8t6k8JzoLcBnC5JuS87hya6tXFNpcq5jTXPr6aQ7y</td>\n    </tr>\n    <tr>\n      <th>1</th>\n      <td>7LKTaxTPdY3k1a5RPhRwiDjX1jdtdqiAS9i9dqCB85Ly2ftT</td>\n      <td>7Jt7Gnrue5rY1fWiwLKjuACqWvc7TXKXwB5Au3fGTaa6bW7M</td>\n    </tr>\n    <tr>\n      <th>2</th>\n      <td>7NUsZPebwLKSseaxGvUsq9dL4xjSgtUWcvCaeqZEEMLNAB7q</td>\n      <td>7LeAuXae35f84yxEpsS7zKa6etuVVEun4hr1Y6vsaFzx77GY</td>\n    </tr>\n    <tr>\n      <th>3</th>\n      <td>7NUsZPebwLKSseaxGvUsq9dL4xjSgtUWcvCaeqZEEMLNAB7q</td>\n      <td>7Ni7k6VzmMamc5XixohFCmMYe6WYeqqgkqSGhupA8FMEhHFP</td>\n    </tr>\n    <tr>\n      <th>4</th>\n      <td>7NUsZPebwLKSseaxGvUsq9dL4xjSgtUWcvCaeqZEEMLNAB7q</td>\n      <td>7MxJ9E1Ni6tx94DnV9mJCn6eVjqYgtvXz395M1kK94dii6qm</td>\n    </tr>\n  </tbody>\n</table>\n</div>"
     },
     "metadata": {},
     "execution_count": 10
    }
   ],
   "source": [
    "nomval_df2.head()"
   ]
  },
  {
   "cell_type": "code",
   "execution_count": 11,
   "metadata": {},
   "outputs": [],
   "source": [
    "prefs_list = list()\n",
    "\n",
    "with open (r\".\\20210412\\prefs.txt\") as f:\n",
    "  lines = f.readlines()\n",
    "  for line in lines:\n",
    "      words = line.split()\n",
    "      for word in words:\n",
    "          prefs_list.append(word)\n",
    "\n",
    "prefs_df=pd.DataFrame(prefs_list, columns=['string_values'])"
   ]
  },
  {
   "cell_type": "code",
   "execution_count": 12,
   "metadata": {},
   "outputs": [],
   "source": [
    "prefs_df1=prefs_df[  (prefs_df['string_values'] != \"[\") & \n",
    "                     (prefs_df['string_values'] != \"]\") & \n",
    "                     (prefs_df['string_values'] != \"],\") & \n",
    "                     (prefs_df['string_values'] != \",\") & \n",
    "                     (prefs_df['string_values'] != \"All\") & \n",
    "                     (prefs_df['string_values'] != \"amount:\") & \n",
    "                     (prefs_df['string_values'] != \"reasons:\") & \n",
    "                     (prefs_df['string_values'] != \"id:\") & \n",
    "                     (prefs_df['string_values'] != \"{\") & \n",
    "                     (prefs_df['string_values'] != \"}\") &                      \n",
    "                     (prefs_df['string_values'] != \"submittedIn:\") &                      \n",
    "                     (prefs_df['string_values'] != \"suppressed:\") &     \n",
    "                     (prefs_df['string_values'] != \"targets:\") &                  \n",
    "                     (prefs_df['string_values'] != \"false\") & \n",
    "                     (prefs_df['string_values'] != \"commission:\") & \n",
    "                     (prefs_df['string_values'] != \"blocked:\") & \n",
    "                     (prefs_df['string_values'] != \"staking\") \n",
    "                     ].copy()\n",
    "prefs_df1.reset_index(inplace=True, drop = False)"
   ]
  },
  {
   "cell_type": "code",
   "execution_count": 13,
   "metadata": {},
   "outputs": [],
   "source": [
    "i = 0 \n",
    "length_data = prefs_df1.shape[0]\n",
    "prefs_list1 = list()\n",
    "\n",
    "while (i < length_data):\n",
    "    prefs_list1.append((prefs_df1.at[i, 'string_values'].replace(',',''), float(prefs_df1.at[i+1, 'string_values'].replace('%,',''))))\n",
    "    i = i + 2\n",
    "   \n",
    "prefs_df2 = pd.DataFrame(prefs_list1, columns =['prefs_validator', 'prefs_commission'])"
   ]
  },
  {
   "cell_type": "code",
   "execution_count": 14,
   "metadata": {},
   "outputs": [
    {
     "output_type": "execute_result",
     "data": {
      "text/plain": [
       "                                    prefs_validator  prefs_commission\n",
       "0  7JF1JmEg9B9XgGALfvcQ7yvfvFgy3SbgQLGtv1kZrSJLNDu9               8.0\n",
       "1  7HjntvAskE1RXoGrSz3sHYeEmG6narGjiMhUQVaTa4mAcAbn               6.0\n",
       "2  7KgUevcYG2krGJ3SVTUqXbD4yPnNaUU1bEuLQEwUmbTXDcqz               1.0\n",
       "3  7Mtmd7xVWiEU84NABeW5KKtr1v4BX75boKbHph9Wv6cY6DfA               3.0\n",
       "4  7KR9tByr3FtYfT2i9GXQFL3DmHLqJSHhMu4VjvyWgx4a3je4               5.0"
      ],
      "text/html": "<div>\n<style scoped>\n    .dataframe tbody tr th:only-of-type {\n        vertical-align: middle;\n    }\n\n    .dataframe tbody tr th {\n        vertical-align: top;\n    }\n\n    .dataframe thead th {\n        text-align: right;\n    }\n</style>\n<table border=\"1\" class=\"dataframe\">\n  <thead>\n    <tr style=\"text-align: right;\">\n      <th></th>\n      <th>prefs_validator</th>\n      <th>prefs_commission</th>\n    </tr>\n  </thead>\n  <tbody>\n    <tr>\n      <th>0</th>\n      <td>7JF1JmEg9B9XgGALfvcQ7yvfvFgy3SbgQLGtv1kZrSJLNDu9</td>\n      <td>8.0</td>\n    </tr>\n    <tr>\n      <th>1</th>\n      <td>7HjntvAskE1RXoGrSz3sHYeEmG6narGjiMhUQVaTa4mAcAbn</td>\n      <td>6.0</td>\n    </tr>\n    <tr>\n      <th>2</th>\n      <td>7KgUevcYG2krGJ3SVTUqXbD4yPnNaUU1bEuLQEwUmbTXDcqz</td>\n      <td>1.0</td>\n    </tr>\n    <tr>\n      <th>3</th>\n      <td>7Mtmd7xVWiEU84NABeW5KKtr1v4BX75boKbHph9Wv6cY6DfA</td>\n      <td>3.0</td>\n    </tr>\n    <tr>\n      <th>4</th>\n      <td>7KR9tByr3FtYfT2i9GXQFL3DmHLqJSHhMu4VjvyWgx4a3je4</td>\n      <td>5.0</td>\n    </tr>\n  </tbody>\n</table>\n</div>"
     },
     "metadata": {},
     "execution_count": 14
    }
   ],
   "source": [
    "prefs_df2.head()"
   ]
  },
  {
   "cell_type": "code",
   "execution_count": 15,
   "metadata": {},
   "outputs": [],
   "source": [
    "identity_list = list()\n",
    "\n",
    "with open (r\".\\20210412\\identity.txt\") as f:\n",
    "  lines = f.readlines()\n",
    "  for line in lines:\n",
    "    identity_list.append(line)\n",
    "\n",
    "identity_df=pd.DataFrame(identity_list, columns=['string_values'])\n",
    "identity_df['string_values'] = identity_df['string_values'].str.lstrip()\n",
    "identity_df['string_values'] = identity_df['string_values'].str.rstrip()"
   ]
  },
  {
   "cell_type": "code",
   "execution_count": 16,
   "metadata": {},
   "outputs": [],
   "source": [
    "identity_df1=identity_df[(identity_df['string_values'] != \"[\") & \n",
    "                         (identity_df['string_values'] != \"]\") & \n",
    "                         (identity_df['string_values'] != \"],\") & \n",
    "                         (identity_df['string_values'] != \",\") & \n",
    "                         (identity_df['string_values'] != \"{\") & \n",
    "                         (identity_df['string_values'] != \"}\") & \n",
    "                         (identity_df['string_values'] != \"},\") & \n",
    "                         (identity_df['string_values'] != \"additional: [],\") &   \n",
    "                         (identity_df['string_values'] != \"judgements: [],\") &   \n",
    "                         (identity_df['string_values'] != \"deposit: 500.0000 mHDX,\") &   \n",
    "                         (identity_df['string_values'] != \"info: {\") &   \n",
    "                         (identity_df['string_values'] != \"pgpFingerprint: null,\")  \n",
    "                        ].copy()\n",
    "identity_df1.reset_index(inplace=True, drop = False)"
   ]
  },
  {
   "cell_type": "code",
   "execution_count": 17,
   "metadata": {},
   "outputs": [],
   "source": [
    "i = 0 \n",
    "length_data = identity_df1.shape[0]\n",
    "identity_list1 = list()\n",
    "\n",
    "while (i < length_data):\n",
    "    if (identity_df1.at[i, 'string_values'][0] == \"7\"): \n",
    "        identity_address = identity_df1.at[i, 'string_values']     \n",
    "        j=i+1\n",
    "        identity_display = ''\n",
    "        identity_legal = ''\n",
    "        identity_web = ''\n",
    "        identity_riot = ''\n",
    "        identity_email = ''\n",
    "        identity_twitter = ''\n",
    "\n",
    "    loop = True \n",
    "    while (loop): \n",
    "        if ('display: {' in identity_df1.at[j, 'string_values']):\n",
    "            if ('Raw: ' in identity_df1.at[j+1, 'string_values']): \n",
    "                identity_display = identity_df1.at[j+1, 'string_values'].replace('Raw: ','')\n",
    "\n",
    "        elif ('legal: {' in identity_df1.at[j, 'string_values']):\n",
    "            if ('Raw: ' in identity_df1.at[j+1, 'string_values']): \n",
    "                identity_legal = identity_df1.at[j+1, 'string_values'].replace('Raw: ','')\n",
    "\n",
    "        elif ('web: {' in identity_df1.at[j, 'string_values']):\n",
    "            if ('Raw: ' in identity_df1.at[j+1, 'string_values']): \n",
    "                identity_web = identity_df1.at[j+1, 'string_values'].replace('Raw: ','')\n",
    "\n",
    "        elif ('riot: {' in identity_df1.at[j, 'string_values']):\n",
    "            if ('Raw: ' in identity_df1.at[j+1, 'string_values']): \n",
    "                identity_riot = identity_df1.at[j+1, 'string_values'].replace('Raw: ','')\n",
    "\n",
    "        elif ('email: {' in identity_df1.at[j, 'string_values']):\n",
    "            if ('Raw: ' in identity_df1.at[j+1, 'string_values']): \n",
    "                identity_email = identity_df1.at[j+1, 'string_values'].replace('Raw: ','')\n",
    "                \n",
    "        elif ('twitter: {' in identity_df1.at[j, 'string_values']):\n",
    "            if ('Raw: ' in identity_df1.at[j+1, 'string_values']): \n",
    "                identity_twitter = identity_df1.at[j+1, 'string_values'].replace('Raw: ','')\n",
    "\n",
    "        if (j == length_data - 1): \n",
    "            loop = False\n",
    "        elif (identity_df1.at[j+1, 'string_values'][0] == \"7\"):\n",
    "            loop = False\n",
    "\n",
    "        if (loop == True):\n",
    "            j=j+1\n",
    "        else: \n",
    "            identity_list1.append((identity_address, \n",
    "                                   identity_display, \n",
    "                                   identity_web,\n",
    "                                   identity_riot,\n",
    "                                   identity_email,\n",
    "                                   identity_twitter                                   \n",
    "                                   ))\n",
    "            i=j+1          \n",
    "    \n",
    "identity_df2 = pd.DataFrame(identity_list1, columns =['id_address', \n",
    "                                                      'id_display', \n",
    "                                                      'id_web',\n",
    "                                                      'id_riot',\n",
    "                                                      'id_email',\n",
    "                                                      'id_twitter'  \n",
    "                                                      ])"
   ]
  },
  {
   "cell_type": "code",
   "execution_count": null,
   "metadata": {},
   "outputs": [],
   "source": []
  },
  {
   "cell_type": "code",
   "execution_count": 18,
   "metadata": {},
   "outputs": [],
   "source": [
    "promoteam_list = list()\n",
    "\n",
    "with open (r\".\\20210412\\pt.txt\") as f:\n",
    "  lines = f.readlines()\n",
    "  for line in lines:\n",
    "    promoteam_list.append(line)\n",
    "\n",
    "promoteam_df=pd.DataFrame(promoteam_list, columns=['string_values'])\n",
    "#identity_df['string_values'] = identity_df['string_values'].str.lstrip()\n",
    "#identity_df['string_values'] = identity_df['string_values'].str.rstrip()"
   ]
  },
  {
   "cell_type": "code",
   "execution_count": 19,
   "metadata": {},
   "outputs": [],
   "source": [
    "promoteam_df1=promoteam_df[(promoteam_df['string_values'] != '\\n') \n",
    "                        ].copy()\n",
    "promoteam_df1.reset_index(inplace=True, drop = False)"
   ]
  },
  {
   "cell_type": "code",
   "execution_count": 20,
   "metadata": {},
   "outputs": [],
   "source": [
    "i = 0 \n",
    "length_data = promoteam_df1.shape[0]\n",
    "promoteam_list1 = list()\n",
    "\n",
    "while (i + 1 < length_data):\n",
    "    if (promoteam_df1.at[i, 'string_values'][0] == '*'): \n",
    "        promoteam_address = promoteam_df1.at[i+1, 'string_values'].replace('\\n','')     \n",
    "        promoteam_name = ''\n",
    "        promoteam_web = ''\n",
    "        promoteam_telegram = ''\n",
    "        \n",
    "        sub1 = promoteam_df1.at[i, 'string_values'][1:]\n",
    "        x1 = sub1.find('%')\n",
    "        sub2 = sub1[0:x1-2].strip()\n",
    "        x2 = sub2.find('(https')\n",
    "        promoteam_name = sub2\n",
    "        if (x2>=0): \n",
    "            sub3 = sub2[x2:]\n",
    "            x3 = sub3.find(')')\n",
    "            sub4 = sub3[1:x3]\n",
    "            promoteam_web = sub4\n",
    "            promoteam_name = sub2[:x2]\n",
    "       \n",
    "        promoteam_name = promoteam_name.replace('-','').strip()\n",
    "\n",
    "        x4 = sub1.find('@') \n",
    "        promoteam_telegram = sub1[x4:].replace('-','').strip()\n",
    "\n",
    "        promoteam_list1.append((promoteam_address, \n",
    "                                   promoteam_name,\n",
    "                                   promoteam_web, \n",
    "                                   promoteam_telegram                                 \n",
    "                                   ))\n",
    "    i=i+1\n",
    "promoteam_df2 = pd.DataFrame(promoteam_list1, columns =['promoteam_address', \n",
    "                                                      'promoteam_name',\n",
    "                                                      'promoteam_web', \n",
    "                                                      'promoteam_telegram'\n",
    "                                                      ])"
   ]
  },
  {
   "cell_type": "code",
   "execution_count": null,
   "metadata": {},
   "outputs": [],
   "source": []
  },
  {
   "cell_type": "code",
   "execution_count": 21,
   "metadata": {},
   "outputs": [],
   "source": [
    "cliff_df=pd.read_excel(r\"./20210412/cliff.xlsx\") \n",
    "cliff_df2 = cliff_df.fillna('')\n",
    "\n",
    "#cliff_df2.to_excel(\"asdasd.xlsx\")"
   ]
  },
  {
   "cell_type": "code",
   "execution_count": 22,
   "metadata": {},
   "outputs": [],
   "source": [
    "info_df=pd.read_excel(r\"./20210412/info.xlsx\") \n",
    "info_df2 = info_df.fillna('')\n"
   ]
  },
  {
   "cell_type": "code",
   "execution_count": 23,
   "metadata": {},
   "outputs": [],
   "source": [
    "#promoteam_df2.to_excel(\"asdfsssdasd.xlsx\")"
   ]
  },
  {
   "cell_type": "code",
   "execution_count": 24,
   "metadata": {},
   "outputs": [
    {
     "output_type": "execute_result",
     "data": {
      "text/plain": [
       "                                         id_address  \\\n",
       "0  7KgUevcYG2krGJ3SVTUqXbD4yPnNaUU1bEuLQEwUmbTXDcqz   \n",
       "1  7JC3ZDap7ag6skbmTxVwXiM9CZd113zo2oUurzXHv18cUdWA   \n",
       "2  7LW93hbhegZgvGN9ScshQuu2v1TFjj68oi1F4kjKMHvQG9mE   \n",
       "3  7N2wD1M7F9T2hARx9BjoHYQj6hqNTgd6FmKT2rC8HVFwxsrH   \n",
       "4  7MxJ9E1Ni6tx94DnV9mJCn6eVjqYgtvXz395M1kK94dii6qm   \n",
       "\n",
       "                     id_display                       id_web id_riot  \\\n",
       "0  Snakenet #1 | hydraheads.net       https://hydraheads.net           \n",
       "1                       HydraDX                                        \n",
       "2          JD | Good Validator!                                        \n",
       "3                Crypto Society  https://t.me/cryptosocietyy           \n",
       "4     i9-9900K_performance_node                                        \n",
       "\n",
       "                        id_email        id_twitter  \n",
       "0                                                   \n",
       "1                                                   \n",
       "2                                                   \n",
       "3                                 @cryptosocietytg  \n",
       "4  inventandchill@protonmail.com                    "
      ],
      "text/html": "<div>\n<style scoped>\n    .dataframe tbody tr th:only-of-type {\n        vertical-align: middle;\n    }\n\n    .dataframe tbody tr th {\n        vertical-align: top;\n    }\n\n    .dataframe thead th {\n        text-align: right;\n    }\n</style>\n<table border=\"1\" class=\"dataframe\">\n  <thead>\n    <tr style=\"text-align: right;\">\n      <th></th>\n      <th>id_address</th>\n      <th>id_display</th>\n      <th>id_web</th>\n      <th>id_riot</th>\n      <th>id_email</th>\n      <th>id_twitter</th>\n    </tr>\n  </thead>\n  <tbody>\n    <tr>\n      <th>0</th>\n      <td>7KgUevcYG2krGJ3SVTUqXbD4yPnNaUU1bEuLQEwUmbTXDcqz</td>\n      <td>Snakenet #1 | hydraheads.net</td>\n      <td>https://hydraheads.net</td>\n      <td></td>\n      <td></td>\n      <td></td>\n    </tr>\n    <tr>\n      <th>1</th>\n      <td>7JC3ZDap7ag6skbmTxVwXiM9CZd113zo2oUurzXHv18cUdWA</td>\n      <td>HydraDX</td>\n      <td></td>\n      <td></td>\n      <td></td>\n      <td></td>\n    </tr>\n    <tr>\n      <th>2</th>\n      <td>7LW93hbhegZgvGN9ScshQuu2v1TFjj68oi1F4kjKMHvQG9mE</td>\n      <td>JD | Good Validator!</td>\n      <td></td>\n      <td></td>\n      <td></td>\n      <td></td>\n    </tr>\n    <tr>\n      <th>3</th>\n      <td>7N2wD1M7F9T2hARx9BjoHYQj6hqNTgd6FmKT2rC8HVFwxsrH</td>\n      <td>Crypto Society</td>\n      <td>https://t.me/cryptosocietyy</td>\n      <td></td>\n      <td></td>\n      <td>@cryptosocietytg</td>\n    </tr>\n    <tr>\n      <th>4</th>\n      <td>7MxJ9E1Ni6tx94DnV9mJCn6eVjqYgtvXz395M1kK94dii6qm</td>\n      <td>i9-9900K_performance_node</td>\n      <td></td>\n      <td></td>\n      <td>inventandchill@protonmail.com</td>\n      <td></td>\n    </tr>\n  </tbody>\n</table>\n</div>"
     },
     "metadata": {},
     "execution_count": 24
    }
   ],
   "source": [
    "identity_df2.head()"
   ]
  },
  {
   "cell_type": "code",
   "execution_count": null,
   "metadata": {},
   "outputs": [],
   "source": []
  },
  {
   "cell_type": "code",
   "execution_count": null,
   "metadata": {},
   "outputs": [],
   "source": []
  },
  {
   "cell_type": "code",
   "execution_count": null,
   "metadata": {},
   "outputs": [],
   "source": []
  },
  {
   "cell_type": "code",
   "execution_count": null,
   "metadata": {},
   "outputs": [],
   "source": []
  },
  {
   "cell_type": "code",
   "execution_count": 25,
   "metadata": {},
   "outputs": [
    {
     "output_type": "execute_result",
     "data": {
      "text/plain": [
       "                                        lock_nominator  lock_stake\n",
       "0     7JZpnvsVW1P5HTr168zoqZK5qvTdWbGvq1fKNe39taZG9gAV     11213.4\n",
       "1     7HsHt7AU21aJTW3EjPJqjcVjpNAMA4yyFddUSBN8TayEbPC9     15500.0\n",
       "2     7N8kScJF9BJ1duMTa4UppEN6MnCzU69MLVPJsoSJzFTVRT5E     14375.0\n",
       "3     7LEgaS2J8K9qdVivwoLm6oapdH1Rxi12dvgopoLrMtXLpngX      1000.0\n",
       "4     7MBqPFCzHxoYbiPdFF5MFbR1aNN5G8MdnnjvCtiK9FjVq1cM    510379.8\n",
       "...                                                ...         ...\n",
       "1443  7KzZUtuX3ruCM44tq9N83dRhrJkenGxgSDfwxZk99r4MHxxW      3378.3\n",
       "1444  7NV4moGB7SiU3g2QsteB3vho2VJ6dqca5ajSqTPKQh9Xihru     15750.0\n",
       "1445  7MVjxyyvg4rcp4qcnKBenp6KPCL3MUK9krthZreHu6YevHb1     80000.0\n",
       "1446  7MtkmmYKhJtsT94XXaVhxjrr9P7nzyLC9S7SJdfDGrCN2uTD    134835.0\n",
       "1447  7Nz2oS3QsqtqSABNZxbWjwDtSR9T96G3t2oNhBjQgXZywYHL     21300.0\n",
       "\n",
       "[1448 rows x 2 columns]"
      ],
      "text/html": "<div>\n<style scoped>\n    .dataframe tbody tr th:only-of-type {\n        vertical-align: middle;\n    }\n\n    .dataframe tbody tr th {\n        vertical-align: top;\n    }\n\n    .dataframe thead th {\n        text-align: right;\n    }\n</style>\n<table border=\"1\" class=\"dataframe\">\n  <thead>\n    <tr style=\"text-align: right;\">\n      <th></th>\n      <th>lock_nominator</th>\n      <th>lock_stake</th>\n    </tr>\n  </thead>\n  <tbody>\n    <tr>\n      <th>0</th>\n      <td>7JZpnvsVW1P5HTr168zoqZK5qvTdWbGvq1fKNe39taZG9gAV</td>\n      <td>11213.4</td>\n    </tr>\n    <tr>\n      <th>1</th>\n      <td>7HsHt7AU21aJTW3EjPJqjcVjpNAMA4yyFddUSBN8TayEbPC9</td>\n      <td>15500.0</td>\n    </tr>\n    <tr>\n      <th>2</th>\n      <td>7N8kScJF9BJ1duMTa4UppEN6MnCzU69MLVPJsoSJzFTVRT5E</td>\n      <td>14375.0</td>\n    </tr>\n    <tr>\n      <th>3</th>\n      <td>7LEgaS2J8K9qdVivwoLm6oapdH1Rxi12dvgopoLrMtXLpngX</td>\n      <td>1000.0</td>\n    </tr>\n    <tr>\n      <th>4</th>\n      <td>7MBqPFCzHxoYbiPdFF5MFbR1aNN5G8MdnnjvCtiK9FjVq1cM</td>\n      <td>510379.8</td>\n    </tr>\n    <tr>\n      <th>...</th>\n      <td>...</td>\n      <td>...</td>\n    </tr>\n    <tr>\n      <th>1443</th>\n      <td>7KzZUtuX3ruCM44tq9N83dRhrJkenGxgSDfwxZk99r4MHxxW</td>\n      <td>3378.3</td>\n    </tr>\n    <tr>\n      <th>1444</th>\n      <td>7NV4moGB7SiU3g2QsteB3vho2VJ6dqca5ajSqTPKQh9Xihru</td>\n      <td>15750.0</td>\n    </tr>\n    <tr>\n      <th>1445</th>\n      <td>7MVjxyyvg4rcp4qcnKBenp6KPCL3MUK9krthZreHu6YevHb1</td>\n      <td>80000.0</td>\n    </tr>\n    <tr>\n      <th>1446</th>\n      <td>7MtkmmYKhJtsT94XXaVhxjrr9P7nzyLC9S7SJdfDGrCN2uTD</td>\n      <td>134835.0</td>\n    </tr>\n    <tr>\n      <th>1447</th>\n      <td>7Nz2oS3QsqtqSABNZxbWjwDtSR9T96G3t2oNhBjQgXZywYHL</td>\n      <td>21300.0</td>\n    </tr>\n  </tbody>\n</table>\n<p>1448 rows × 2 columns</p>\n</div>"
     },
     "metadata": {},
     "execution_count": 25
    }
   ],
   "source": [
    "lock_df2"
   ]
  },
  {
   "cell_type": "code",
   "execution_count": 26,
   "metadata": {},
   "outputs": [
    {
     "output_type": "execute_result",
     "data": {
      "text/plain": [
       "                                          nv_nominator  \\\n",
       "0     7LKTaxTPdY3k1a5RPhRwiDjX1jdtdqiAS9i9dqCB85Ly2ftT   \n",
       "1     7LKTaxTPdY3k1a5RPhRwiDjX1jdtdqiAS9i9dqCB85Ly2ftT   \n",
       "2     7NUsZPebwLKSseaxGvUsq9dL4xjSgtUWcvCaeqZEEMLNAB7q   \n",
       "3     7NUsZPebwLKSseaxGvUsq9dL4xjSgtUWcvCaeqZEEMLNAB7q   \n",
       "4     7NUsZPebwLKSseaxGvUsq9dL4xjSgtUWcvCaeqZEEMLNAB7q   \n",
       "...                                                ...   \n",
       "5770  7JTxEFLetAtByBnCxnvru7Jk7vEY5QzcqJdas6b36RueDiki   \n",
       "5771  7Lh2fyZ7NJnBsGqAot2CXUbcnoVJFiTCRFLeqtEMRp5DKYWK   \n",
       "5772  7Lh2fyZ7NJnBsGqAot2CXUbcnoVJFiTCRFLeqtEMRp5DKYWK   \n",
       "5773  7Lh2fyZ7NJnBsGqAot2CXUbcnoVJFiTCRFLeqtEMRp5DKYWK   \n",
       "5774  7JNkxmGVV5ELbWRhLtfh1ehMiRx5WALXST4rFTzyk255r8eN   \n",
       "\n",
       "                                          nv_validator  \n",
       "0     7Kb7QZj8t6k8JzoLcBnC5JuS87hya6tXFNpcq5jTXPr6aQ7y  \n",
       "1     7Jt7Gnrue5rY1fWiwLKjuACqWvc7TXKXwB5Au3fGTaa6bW7M  \n",
       "2     7LeAuXae35f84yxEpsS7zKa6etuVVEun4hr1Y6vsaFzx77GY  \n",
       "3     7Ni7k6VzmMamc5XixohFCmMYe6WYeqqgkqSGhupA8FMEhHFP  \n",
       "4     7MxJ9E1Ni6tx94DnV9mJCn6eVjqYgtvXz395M1kK94dii6qm  \n",
       "...                                                ...  \n",
       "5770  7Ni7k6VzmMamc5XixohFCmMYe6WYeqqgkqSGhupA8FMEhHFP  \n",
       "5771  7LBK6UBtBVFHGqjfZp3BkQseXz7zFom7eVshyyB6HkSREQeV  \n",
       "5772  7KLEkNB5CnkrMEasfhCHggTDJZymQMeckTmN6naogUKj1Ez7  \n",
       "5773  7MW7PmdPX3qAXWNc7BJZ5GvQnfd3V4kd12o8Cv9bbquBDV2Z  \n",
       "5774  7L8vysxVUoFLaz4prDrSsDH8LWhvD5anU5tDaBLwikosVAP7  \n",
       "\n",
       "[5775 rows x 2 columns]"
      ],
      "text/html": "<div>\n<style scoped>\n    .dataframe tbody tr th:only-of-type {\n        vertical-align: middle;\n    }\n\n    .dataframe tbody tr th {\n        vertical-align: top;\n    }\n\n    .dataframe thead th {\n        text-align: right;\n    }\n</style>\n<table border=\"1\" class=\"dataframe\">\n  <thead>\n    <tr style=\"text-align: right;\">\n      <th></th>\n      <th>nv_nominator</th>\n      <th>nv_validator</th>\n    </tr>\n  </thead>\n  <tbody>\n    <tr>\n      <th>0</th>\n      <td>7LKTaxTPdY3k1a5RPhRwiDjX1jdtdqiAS9i9dqCB85Ly2ftT</td>\n      <td>7Kb7QZj8t6k8JzoLcBnC5JuS87hya6tXFNpcq5jTXPr6aQ7y</td>\n    </tr>\n    <tr>\n      <th>1</th>\n      <td>7LKTaxTPdY3k1a5RPhRwiDjX1jdtdqiAS9i9dqCB85Ly2ftT</td>\n      <td>7Jt7Gnrue5rY1fWiwLKjuACqWvc7TXKXwB5Au3fGTaa6bW7M</td>\n    </tr>\n    <tr>\n      <th>2</th>\n      <td>7NUsZPebwLKSseaxGvUsq9dL4xjSgtUWcvCaeqZEEMLNAB7q</td>\n      <td>7LeAuXae35f84yxEpsS7zKa6etuVVEun4hr1Y6vsaFzx77GY</td>\n    </tr>\n    <tr>\n      <th>3</th>\n      <td>7NUsZPebwLKSseaxGvUsq9dL4xjSgtUWcvCaeqZEEMLNAB7q</td>\n      <td>7Ni7k6VzmMamc5XixohFCmMYe6WYeqqgkqSGhupA8FMEhHFP</td>\n    </tr>\n    <tr>\n      <th>4</th>\n      <td>7NUsZPebwLKSseaxGvUsq9dL4xjSgtUWcvCaeqZEEMLNAB7q</td>\n      <td>7MxJ9E1Ni6tx94DnV9mJCn6eVjqYgtvXz395M1kK94dii6qm</td>\n    </tr>\n    <tr>\n      <th>...</th>\n      <td>...</td>\n      <td>...</td>\n    </tr>\n    <tr>\n      <th>5770</th>\n      <td>7JTxEFLetAtByBnCxnvru7Jk7vEY5QzcqJdas6b36RueDiki</td>\n      <td>7Ni7k6VzmMamc5XixohFCmMYe6WYeqqgkqSGhupA8FMEhHFP</td>\n    </tr>\n    <tr>\n      <th>5771</th>\n      <td>7Lh2fyZ7NJnBsGqAot2CXUbcnoVJFiTCRFLeqtEMRp5DKYWK</td>\n      <td>7LBK6UBtBVFHGqjfZp3BkQseXz7zFom7eVshyyB6HkSREQeV</td>\n    </tr>\n    <tr>\n      <th>5772</th>\n      <td>7Lh2fyZ7NJnBsGqAot2CXUbcnoVJFiTCRFLeqtEMRp5DKYWK</td>\n      <td>7KLEkNB5CnkrMEasfhCHggTDJZymQMeckTmN6naogUKj1Ez7</td>\n    </tr>\n    <tr>\n      <th>5773</th>\n      <td>7Lh2fyZ7NJnBsGqAot2CXUbcnoVJFiTCRFLeqtEMRp5DKYWK</td>\n      <td>7MW7PmdPX3qAXWNc7BJZ5GvQnfd3V4kd12o8Cv9bbquBDV2Z</td>\n    </tr>\n    <tr>\n      <th>5774</th>\n      <td>7JNkxmGVV5ELbWRhLtfh1ehMiRx5WALXST4rFTzyk255r8eN</td>\n      <td>7L8vysxVUoFLaz4prDrSsDH8LWhvD5anU5tDaBLwikosVAP7</td>\n    </tr>\n  </tbody>\n</table>\n<p>5775 rows × 2 columns</p>\n</div>"
     },
     "metadata": {},
     "execution_count": 26
    }
   ],
   "source": [
    "nomval_df2"
   ]
  },
  {
   "cell_type": "code",
   "execution_count": 27,
   "metadata": {},
   "outputs": [
    {
     "output_type": "execute_result",
     "data": {
      "text/plain": [
       "                                      prefs_validator  prefs_commission\n",
       "0    7JF1JmEg9B9XgGALfvcQ7yvfvFgy3SbgQLGtv1kZrSJLNDu9               8.0\n",
       "1    7HjntvAskE1RXoGrSz3sHYeEmG6narGjiMhUQVaTa4mAcAbn               6.0\n",
       "2    7KgUevcYG2krGJ3SVTUqXbD4yPnNaUU1bEuLQEwUmbTXDcqz               1.0\n",
       "3    7Mtmd7xVWiEU84NABeW5KKtr1v4BX75boKbHph9Wv6cY6DfA               3.0\n",
       "4    7KR9tByr3FtYfT2i9GXQFL3DmHLqJSHhMu4VjvyWgx4a3je4               5.0\n",
       "..                                                ...               ...\n",
       "232  7KLNWE11ry9PsZTjF946ZhDuAqgCt3V9FcK4C8FECde5jFiC               0.0\n",
       "233  7Hnbh8jgGq39MnqRxAbQrUDgSWfsr8drPQfvikmx3ZRS2z3k               3.0\n",
       "234  7LdiCJo1ECGYpcnzwGoQDX6UwYesPxPZ3cKHE8QKa6fzHk9r               0.0\n",
       "235  7LdgWcszy3R76eBU3sAqYvwBUG9PxiwJ6K8XGvNQandWy1R1               3.0\n",
       "236  7PDWVATtCauVqBTmT67f3oL2zM7XQJXUkDFxRMpKYCadGukr               1.0\n",
       "\n",
       "[237 rows x 2 columns]"
      ],
      "text/html": "<div>\n<style scoped>\n    .dataframe tbody tr th:only-of-type {\n        vertical-align: middle;\n    }\n\n    .dataframe tbody tr th {\n        vertical-align: top;\n    }\n\n    .dataframe thead th {\n        text-align: right;\n    }\n</style>\n<table border=\"1\" class=\"dataframe\">\n  <thead>\n    <tr style=\"text-align: right;\">\n      <th></th>\n      <th>prefs_validator</th>\n      <th>prefs_commission</th>\n    </tr>\n  </thead>\n  <tbody>\n    <tr>\n      <th>0</th>\n      <td>7JF1JmEg9B9XgGALfvcQ7yvfvFgy3SbgQLGtv1kZrSJLNDu9</td>\n      <td>8.0</td>\n    </tr>\n    <tr>\n      <th>1</th>\n      <td>7HjntvAskE1RXoGrSz3sHYeEmG6narGjiMhUQVaTa4mAcAbn</td>\n      <td>6.0</td>\n    </tr>\n    <tr>\n      <th>2</th>\n      <td>7KgUevcYG2krGJ3SVTUqXbD4yPnNaUU1bEuLQEwUmbTXDcqz</td>\n      <td>1.0</td>\n    </tr>\n    <tr>\n      <th>3</th>\n      <td>7Mtmd7xVWiEU84NABeW5KKtr1v4BX75boKbHph9Wv6cY6DfA</td>\n      <td>3.0</td>\n    </tr>\n    <tr>\n      <th>4</th>\n      <td>7KR9tByr3FtYfT2i9GXQFL3DmHLqJSHhMu4VjvyWgx4a3je4</td>\n      <td>5.0</td>\n    </tr>\n    <tr>\n      <th>...</th>\n      <td>...</td>\n      <td>...</td>\n    </tr>\n    <tr>\n      <th>232</th>\n      <td>7KLNWE11ry9PsZTjF946ZhDuAqgCt3V9FcK4C8FECde5jFiC</td>\n      <td>0.0</td>\n    </tr>\n    <tr>\n      <th>233</th>\n      <td>7Hnbh8jgGq39MnqRxAbQrUDgSWfsr8drPQfvikmx3ZRS2z3k</td>\n      <td>3.0</td>\n    </tr>\n    <tr>\n      <th>234</th>\n      <td>7LdiCJo1ECGYpcnzwGoQDX6UwYesPxPZ3cKHE8QKa6fzHk9r</td>\n      <td>0.0</td>\n    </tr>\n    <tr>\n      <th>235</th>\n      <td>7LdgWcszy3R76eBU3sAqYvwBUG9PxiwJ6K8XGvNQandWy1R1</td>\n      <td>3.0</td>\n    </tr>\n    <tr>\n      <th>236</th>\n      <td>7PDWVATtCauVqBTmT67f3oL2zM7XQJXUkDFxRMpKYCadGukr</td>\n      <td>1.0</td>\n    </tr>\n  </tbody>\n</table>\n<p>237 rows × 2 columns</p>\n</div>"
     },
     "metadata": {},
     "execution_count": 27
    }
   ],
   "source": [
    "prefs_df2"
   ]
  },
  {
   "cell_type": "code",
   "execution_count": 28,
   "metadata": {},
   "outputs": [
    {
     "output_type": "execute_result",
     "data": {
      "text/plain": [
       "                                           id_address  \\\n",
       "0    7KgUevcYG2krGJ3SVTUqXbD4yPnNaUU1bEuLQEwUmbTXDcqz   \n",
       "1    7JC3ZDap7ag6skbmTxVwXiM9CZd113zo2oUurzXHv18cUdWA   \n",
       "2    7LW93hbhegZgvGN9ScshQuu2v1TFjj68oi1F4kjKMHvQG9mE   \n",
       "3    7N2wD1M7F9T2hARx9BjoHYQj6hqNTgd6FmKT2rC8HVFwxsrH   \n",
       "4    7MxJ9E1Ni6tx94DnV9mJCn6eVjqYgtvXz395M1kK94dii6qm   \n",
       "..                                                ...   \n",
       "117  7LiwbfGNJF5eXKW2VWpCPp3a86ZgCS5NLHJe23EVgagCHVQG   \n",
       "118  7MxSbxBEqvQZviFHBXotwidoqxqLA4gYf3neMT59Rjhuhotb   \n",
       "119  7LrThwwNNLVCRtYXDUurGqmiJXP1s9mT53G4SFayn2NWBmEV   \n",
       "120  7Hnbh8jgGq39MnqRxAbQrUDgSWfsr8drPQfvikmx3ZRS2z3k   \n",
       "121  7LdgWcszy3R76eBU3sAqYvwBUG9PxiwJ6K8XGvNQandWy1R1   \n",
       "\n",
       "                       id_display                       id_web id_riot  \\\n",
       "0    Snakenet #1 | hydraheads.net       https://hydraheads.net           \n",
       "1                         HydraDX                                        \n",
       "2            JD | Good Validator!                                        \n",
       "3                  Crypto Society  https://t.me/cryptosocietyy           \n",
       "4       i9-9900K_performance_node                                        \n",
       "..                            ...                          ...     ...   \n",
       "117            Mississippi-Goddam                                        \n",
       "118               xHDX.RUSTY.Node                                        \n",
       "119                    Bartalamew                                        \n",
       "120                  @SeaInvestor                                        \n",
       "121                     hydra9595                                        \n",
       "\n",
       "                          id_email        id_twitter  \n",
       "0                                                     \n",
       "1                                                     \n",
       "2                                                     \n",
       "3                                   @cryptosocietytg  \n",
       "4    inventandchill@protonmail.com                    \n",
       "..                             ...               ...  \n",
       "117                                                   \n",
       "118      xHDX.RUSTY.Node@gmail.com                    \n",
       "119                                                   \n",
       "120                                    @PavelMoneyIn  \n",
       "121                                                   \n",
       "\n",
       "[122 rows x 6 columns]"
      ],
      "text/html": "<div>\n<style scoped>\n    .dataframe tbody tr th:only-of-type {\n        vertical-align: middle;\n    }\n\n    .dataframe tbody tr th {\n        vertical-align: top;\n    }\n\n    .dataframe thead th {\n        text-align: right;\n    }\n</style>\n<table border=\"1\" class=\"dataframe\">\n  <thead>\n    <tr style=\"text-align: right;\">\n      <th></th>\n      <th>id_address</th>\n      <th>id_display</th>\n      <th>id_web</th>\n      <th>id_riot</th>\n      <th>id_email</th>\n      <th>id_twitter</th>\n    </tr>\n  </thead>\n  <tbody>\n    <tr>\n      <th>0</th>\n      <td>7KgUevcYG2krGJ3SVTUqXbD4yPnNaUU1bEuLQEwUmbTXDcqz</td>\n      <td>Snakenet #1 | hydraheads.net</td>\n      <td>https://hydraheads.net</td>\n      <td></td>\n      <td></td>\n      <td></td>\n    </tr>\n    <tr>\n      <th>1</th>\n      <td>7JC3ZDap7ag6skbmTxVwXiM9CZd113zo2oUurzXHv18cUdWA</td>\n      <td>HydraDX</td>\n      <td></td>\n      <td></td>\n      <td></td>\n      <td></td>\n    </tr>\n    <tr>\n      <th>2</th>\n      <td>7LW93hbhegZgvGN9ScshQuu2v1TFjj68oi1F4kjKMHvQG9mE</td>\n      <td>JD | Good Validator!</td>\n      <td></td>\n      <td></td>\n      <td></td>\n      <td></td>\n    </tr>\n    <tr>\n      <th>3</th>\n      <td>7N2wD1M7F9T2hARx9BjoHYQj6hqNTgd6FmKT2rC8HVFwxsrH</td>\n      <td>Crypto Society</td>\n      <td>https://t.me/cryptosocietyy</td>\n      <td></td>\n      <td></td>\n      <td>@cryptosocietytg</td>\n    </tr>\n    <tr>\n      <th>4</th>\n      <td>7MxJ9E1Ni6tx94DnV9mJCn6eVjqYgtvXz395M1kK94dii6qm</td>\n      <td>i9-9900K_performance_node</td>\n      <td></td>\n      <td></td>\n      <td>inventandchill@protonmail.com</td>\n      <td></td>\n    </tr>\n    <tr>\n      <th>...</th>\n      <td>...</td>\n      <td>...</td>\n      <td>...</td>\n      <td>...</td>\n      <td>...</td>\n      <td>...</td>\n    </tr>\n    <tr>\n      <th>117</th>\n      <td>7LiwbfGNJF5eXKW2VWpCPp3a86ZgCS5NLHJe23EVgagCHVQG</td>\n      <td>Mississippi-Goddam</td>\n      <td></td>\n      <td></td>\n      <td></td>\n      <td></td>\n    </tr>\n    <tr>\n      <th>118</th>\n      <td>7MxSbxBEqvQZviFHBXotwidoqxqLA4gYf3neMT59Rjhuhotb</td>\n      <td>xHDX.RUSTY.Node</td>\n      <td></td>\n      <td></td>\n      <td>xHDX.RUSTY.Node@gmail.com</td>\n      <td></td>\n    </tr>\n    <tr>\n      <th>119</th>\n      <td>7LrThwwNNLVCRtYXDUurGqmiJXP1s9mT53G4SFayn2NWBmEV</td>\n      <td>Bartalamew</td>\n      <td></td>\n      <td></td>\n      <td></td>\n      <td></td>\n    </tr>\n    <tr>\n      <th>120</th>\n      <td>7Hnbh8jgGq39MnqRxAbQrUDgSWfsr8drPQfvikmx3ZRS2z3k</td>\n      <td>@SeaInvestor</td>\n      <td></td>\n      <td></td>\n      <td></td>\n      <td>@PavelMoneyIn</td>\n    </tr>\n    <tr>\n      <th>121</th>\n      <td>7LdgWcszy3R76eBU3sAqYvwBUG9PxiwJ6K8XGvNQandWy1R1</td>\n      <td>hydra9595</td>\n      <td></td>\n      <td></td>\n      <td></td>\n      <td></td>\n    </tr>\n  </tbody>\n</table>\n<p>122 rows × 6 columns</p>\n</div>"
     },
     "metadata": {},
     "execution_count": 28
    }
   ],
   "source": [
    "identity_df2"
   ]
  },
  {
   "cell_type": "code",
   "execution_count": 29,
   "metadata": {},
   "outputs": [],
   "source": [
    "piv_nomval_lock_df2 = pd.merge(nomval_df2, lock_df2, how='left',left_on=['nv_nominator'],right_on=['lock_nominator'])\n",
    "#piv_nomval_lock_df2.fillna('', inplace=True)\n",
    "piv_nomval_lock_df2_1=piv_nomval_lock_df2.groupby(['nv_validator']).sum().copy()\n",
    "piv_nomval_lock_df2_1.reset_index(inplace=True, drop = False)"
   ]
  },
  {
   "cell_type": "code",
   "execution_count": 30,
   "metadata": {},
   "outputs": [
    {
     "output_type": "execute_result",
     "data": {
      "text/plain": [
       "                                          nv_nominator  \\\n",
       "0     7LKTaxTPdY3k1a5RPhRwiDjX1jdtdqiAS9i9dqCB85Ly2ftT   \n",
       "1     7LKTaxTPdY3k1a5RPhRwiDjX1jdtdqiAS9i9dqCB85Ly2ftT   \n",
       "2     7NUsZPebwLKSseaxGvUsq9dL4xjSgtUWcvCaeqZEEMLNAB7q   \n",
       "3     7NUsZPebwLKSseaxGvUsq9dL4xjSgtUWcvCaeqZEEMLNAB7q   \n",
       "4     7NUsZPebwLKSseaxGvUsq9dL4xjSgtUWcvCaeqZEEMLNAB7q   \n",
       "...                                                ...   \n",
       "5770  7JTxEFLetAtByBnCxnvru7Jk7vEY5QzcqJdas6b36RueDiki   \n",
       "5771  7Lh2fyZ7NJnBsGqAot2CXUbcnoVJFiTCRFLeqtEMRp5DKYWK   \n",
       "5772  7Lh2fyZ7NJnBsGqAot2CXUbcnoVJFiTCRFLeqtEMRp5DKYWK   \n",
       "5773  7Lh2fyZ7NJnBsGqAot2CXUbcnoVJFiTCRFLeqtEMRp5DKYWK   \n",
       "5774  7JNkxmGVV5ELbWRhLtfh1ehMiRx5WALXST4rFTzyk255r8eN   \n",
       "\n",
       "                                          nv_validator  \\\n",
       "0     7Kb7QZj8t6k8JzoLcBnC5JuS87hya6tXFNpcq5jTXPr6aQ7y   \n",
       "1     7Jt7Gnrue5rY1fWiwLKjuACqWvc7TXKXwB5Au3fGTaa6bW7M   \n",
       "2     7LeAuXae35f84yxEpsS7zKa6etuVVEun4hr1Y6vsaFzx77GY   \n",
       "3     7Ni7k6VzmMamc5XixohFCmMYe6WYeqqgkqSGhupA8FMEhHFP   \n",
       "4     7MxJ9E1Ni6tx94DnV9mJCn6eVjqYgtvXz395M1kK94dii6qm   \n",
       "...                                                ...   \n",
       "5770  7Ni7k6VzmMamc5XixohFCmMYe6WYeqqgkqSGhupA8FMEhHFP   \n",
       "5771  7LBK6UBtBVFHGqjfZp3BkQseXz7zFom7eVshyyB6HkSREQeV   \n",
       "5772  7KLEkNB5CnkrMEasfhCHggTDJZymQMeckTmN6naogUKj1Ez7   \n",
       "5773  7MW7PmdPX3qAXWNc7BJZ5GvQnfd3V4kd12o8Cv9bbquBDV2Z   \n",
       "5774  7L8vysxVUoFLaz4prDrSsDH8LWhvD5anU5tDaBLwikosVAP7   \n",
       "\n",
       "                                        lock_nominator  lock_stake  \n",
       "0     7LKTaxTPdY3k1a5RPhRwiDjX1jdtdqiAS9i9dqCB85Ly2ftT     34280.8  \n",
       "1     7LKTaxTPdY3k1a5RPhRwiDjX1jdtdqiAS9i9dqCB85Ly2ftT     34280.8  \n",
       "2     7NUsZPebwLKSseaxGvUsq9dL4xjSgtUWcvCaeqZEEMLNAB7q     12400.0  \n",
       "3     7NUsZPebwLKSseaxGvUsq9dL4xjSgtUWcvCaeqZEEMLNAB7q     12400.0  \n",
       "4     7NUsZPebwLKSseaxGvUsq9dL4xjSgtUWcvCaeqZEEMLNAB7q     12400.0  \n",
       "...                                                ...         ...  \n",
       "5770  7JTxEFLetAtByBnCxnvru7Jk7vEY5QzcqJdas6b36RueDiki      1500.0  \n",
       "5771  7Lh2fyZ7NJnBsGqAot2CXUbcnoVJFiTCRFLeqtEMRp5DKYWK     30156.4  \n",
       "5772  7Lh2fyZ7NJnBsGqAot2CXUbcnoVJFiTCRFLeqtEMRp5DKYWK     30156.4  \n",
       "5773  7Lh2fyZ7NJnBsGqAot2CXUbcnoVJFiTCRFLeqtEMRp5DKYWK     30156.4  \n",
       "5774  7JNkxmGVV5ELbWRhLtfh1ehMiRx5WALXST4rFTzyk255r8eN      7880.0  \n",
       "\n",
       "[5775 rows x 4 columns]"
      ],
      "text/html": "<div>\n<style scoped>\n    .dataframe tbody tr th:only-of-type {\n        vertical-align: middle;\n    }\n\n    .dataframe tbody tr th {\n        vertical-align: top;\n    }\n\n    .dataframe thead th {\n        text-align: right;\n    }\n</style>\n<table border=\"1\" class=\"dataframe\">\n  <thead>\n    <tr style=\"text-align: right;\">\n      <th></th>\n      <th>nv_nominator</th>\n      <th>nv_validator</th>\n      <th>lock_nominator</th>\n      <th>lock_stake</th>\n    </tr>\n  </thead>\n  <tbody>\n    <tr>\n      <th>0</th>\n      <td>7LKTaxTPdY3k1a5RPhRwiDjX1jdtdqiAS9i9dqCB85Ly2ftT</td>\n      <td>7Kb7QZj8t6k8JzoLcBnC5JuS87hya6tXFNpcq5jTXPr6aQ7y</td>\n      <td>7LKTaxTPdY3k1a5RPhRwiDjX1jdtdqiAS9i9dqCB85Ly2ftT</td>\n      <td>34280.8</td>\n    </tr>\n    <tr>\n      <th>1</th>\n      <td>7LKTaxTPdY3k1a5RPhRwiDjX1jdtdqiAS9i9dqCB85Ly2ftT</td>\n      <td>7Jt7Gnrue5rY1fWiwLKjuACqWvc7TXKXwB5Au3fGTaa6bW7M</td>\n      <td>7LKTaxTPdY3k1a5RPhRwiDjX1jdtdqiAS9i9dqCB85Ly2ftT</td>\n      <td>34280.8</td>\n    </tr>\n    <tr>\n      <th>2</th>\n      <td>7NUsZPebwLKSseaxGvUsq9dL4xjSgtUWcvCaeqZEEMLNAB7q</td>\n      <td>7LeAuXae35f84yxEpsS7zKa6etuVVEun4hr1Y6vsaFzx77GY</td>\n      <td>7NUsZPebwLKSseaxGvUsq9dL4xjSgtUWcvCaeqZEEMLNAB7q</td>\n      <td>12400.0</td>\n    </tr>\n    <tr>\n      <th>3</th>\n      <td>7NUsZPebwLKSseaxGvUsq9dL4xjSgtUWcvCaeqZEEMLNAB7q</td>\n      <td>7Ni7k6VzmMamc5XixohFCmMYe6WYeqqgkqSGhupA8FMEhHFP</td>\n      <td>7NUsZPebwLKSseaxGvUsq9dL4xjSgtUWcvCaeqZEEMLNAB7q</td>\n      <td>12400.0</td>\n    </tr>\n    <tr>\n      <th>4</th>\n      <td>7NUsZPebwLKSseaxGvUsq9dL4xjSgtUWcvCaeqZEEMLNAB7q</td>\n      <td>7MxJ9E1Ni6tx94DnV9mJCn6eVjqYgtvXz395M1kK94dii6qm</td>\n      <td>7NUsZPebwLKSseaxGvUsq9dL4xjSgtUWcvCaeqZEEMLNAB7q</td>\n      <td>12400.0</td>\n    </tr>\n    <tr>\n      <th>...</th>\n      <td>...</td>\n      <td>...</td>\n      <td>...</td>\n      <td>...</td>\n    </tr>\n    <tr>\n      <th>5770</th>\n      <td>7JTxEFLetAtByBnCxnvru7Jk7vEY5QzcqJdas6b36RueDiki</td>\n      <td>7Ni7k6VzmMamc5XixohFCmMYe6WYeqqgkqSGhupA8FMEhHFP</td>\n      <td>7JTxEFLetAtByBnCxnvru7Jk7vEY5QzcqJdas6b36RueDiki</td>\n      <td>1500.0</td>\n    </tr>\n    <tr>\n      <th>5771</th>\n      <td>7Lh2fyZ7NJnBsGqAot2CXUbcnoVJFiTCRFLeqtEMRp5DKYWK</td>\n      <td>7LBK6UBtBVFHGqjfZp3BkQseXz7zFom7eVshyyB6HkSREQeV</td>\n      <td>7Lh2fyZ7NJnBsGqAot2CXUbcnoVJFiTCRFLeqtEMRp5DKYWK</td>\n      <td>30156.4</td>\n    </tr>\n    <tr>\n      <th>5772</th>\n      <td>7Lh2fyZ7NJnBsGqAot2CXUbcnoVJFiTCRFLeqtEMRp5DKYWK</td>\n      <td>7KLEkNB5CnkrMEasfhCHggTDJZymQMeckTmN6naogUKj1Ez7</td>\n      <td>7Lh2fyZ7NJnBsGqAot2CXUbcnoVJFiTCRFLeqtEMRp5DKYWK</td>\n      <td>30156.4</td>\n    </tr>\n    <tr>\n      <th>5773</th>\n      <td>7Lh2fyZ7NJnBsGqAot2CXUbcnoVJFiTCRFLeqtEMRp5DKYWK</td>\n      <td>7MW7PmdPX3qAXWNc7BJZ5GvQnfd3V4kd12o8Cv9bbquBDV2Z</td>\n      <td>7Lh2fyZ7NJnBsGqAot2CXUbcnoVJFiTCRFLeqtEMRp5DKYWK</td>\n      <td>30156.4</td>\n    </tr>\n    <tr>\n      <th>5774</th>\n      <td>7JNkxmGVV5ELbWRhLtfh1ehMiRx5WALXST4rFTzyk255r8eN</td>\n      <td>7L8vysxVUoFLaz4prDrSsDH8LWhvD5anU5tDaBLwikosVAP7</td>\n      <td>7JNkxmGVV5ELbWRhLtfh1ehMiRx5WALXST4rFTzyk255r8eN</td>\n      <td>7880.0</td>\n    </tr>\n  </tbody>\n</table>\n<p>5775 rows × 4 columns</p>\n</div>"
     },
     "metadata": {},
     "execution_count": 30
    }
   ],
   "source": [
    "piv_nomval_lock_df2"
   ]
  },
  {
   "cell_type": "code",
   "execution_count": 31,
   "metadata": {},
   "outputs": [
    {
     "output_type": "execute_result",
     "data": {
      "text/plain": [
       "                                         nv_validator   lock_stake\n",
       "0    7HccSRSHmJjJiGXPnv3cK1sRvTVYwxuWHsaUwXND1AyTt4mp  1980415.800\n",
       "1    7HjntvAskE1RXoGrSz3sHYeEmG6narGjiMhUQVaTa4mAcAbn  3378094.401\n",
       "2    7HkfuoaD9Edsfm4vS7qPf8wyhcAKVYVbaXXMnRuFNzTGurJQ   984755.300\n",
       "3    7Hnbh8jgGq39MnqRxAbQrUDgSWfsr8drPQfvikmx3ZRS2z3k   735404.100\n",
       "4    7Hnr9uHckVyBiyxbRZxKWsspM3u2MsGvhEqVdVJSTWjoGNgt    12263.900\n",
       "..                                                ...          ...\n",
       "208  7PJJ7KMuKWzpXDRU5gwgEXj9niwDer9x7ESm5mrMtyr9yoSC     2642.700\n",
       "209  7PJJTvcLGwsC11Np9nN8JLVvkMjACmxmJehw8mMHpVUfn8UQ  3415372.600\n",
       "210  7PLgsivMXtqsJirQvSC1jYWCntkces8uBX4KnYTFYPRakG5r  7082156.100\n",
       "211  7PMBLJqDMVZWTMAjA7vhPu3ETv6zz8P7kr8XH9ubD2PppKmL  2824466.900\n",
       "212  7PMhmBrWy4sdLxrvwdmyZsCKQ53tjRWtmXMApDpZBMTXaVdv   432153.300\n",
       "\n",
       "[213 rows x 2 columns]"
      ],
      "text/html": "<div>\n<style scoped>\n    .dataframe tbody tr th:only-of-type {\n        vertical-align: middle;\n    }\n\n    .dataframe tbody tr th {\n        vertical-align: top;\n    }\n\n    .dataframe thead th {\n        text-align: right;\n    }\n</style>\n<table border=\"1\" class=\"dataframe\">\n  <thead>\n    <tr style=\"text-align: right;\">\n      <th></th>\n      <th>nv_validator</th>\n      <th>lock_stake</th>\n    </tr>\n  </thead>\n  <tbody>\n    <tr>\n      <th>0</th>\n      <td>7HccSRSHmJjJiGXPnv3cK1sRvTVYwxuWHsaUwXND1AyTt4mp</td>\n      <td>1980415.800</td>\n    </tr>\n    <tr>\n      <th>1</th>\n      <td>7HjntvAskE1RXoGrSz3sHYeEmG6narGjiMhUQVaTa4mAcAbn</td>\n      <td>3378094.401</td>\n    </tr>\n    <tr>\n      <th>2</th>\n      <td>7HkfuoaD9Edsfm4vS7qPf8wyhcAKVYVbaXXMnRuFNzTGurJQ</td>\n      <td>984755.300</td>\n    </tr>\n    <tr>\n      <th>3</th>\n      <td>7Hnbh8jgGq39MnqRxAbQrUDgSWfsr8drPQfvikmx3ZRS2z3k</td>\n      <td>735404.100</td>\n    </tr>\n    <tr>\n      <th>4</th>\n      <td>7Hnr9uHckVyBiyxbRZxKWsspM3u2MsGvhEqVdVJSTWjoGNgt</td>\n      <td>12263.900</td>\n    </tr>\n    <tr>\n      <th>...</th>\n      <td>...</td>\n      <td>...</td>\n    </tr>\n    <tr>\n      <th>208</th>\n      <td>7PJJ7KMuKWzpXDRU5gwgEXj9niwDer9x7ESm5mrMtyr9yoSC</td>\n      <td>2642.700</td>\n    </tr>\n    <tr>\n      <th>209</th>\n      <td>7PJJTvcLGwsC11Np9nN8JLVvkMjACmxmJehw8mMHpVUfn8UQ</td>\n      <td>3415372.600</td>\n    </tr>\n    <tr>\n      <th>210</th>\n      <td>7PLgsivMXtqsJirQvSC1jYWCntkces8uBX4KnYTFYPRakG5r</td>\n      <td>7082156.100</td>\n    </tr>\n    <tr>\n      <th>211</th>\n      <td>7PMBLJqDMVZWTMAjA7vhPu3ETv6zz8P7kr8XH9ubD2PppKmL</td>\n      <td>2824466.900</td>\n    </tr>\n    <tr>\n      <th>212</th>\n      <td>7PMhmBrWy4sdLxrvwdmyZsCKQ53tjRWtmXMApDpZBMTXaVdv</td>\n      <td>432153.300</td>\n    </tr>\n  </tbody>\n</table>\n<p>213 rows × 2 columns</p>\n</div>"
     },
     "metadata": {},
     "execution_count": 31
    }
   ],
   "source": [
    "piv_nomval_lock_df2_1"
   ]
  },
  {
   "cell_type": "code",
   "execution_count": 32,
   "metadata": {},
   "outputs": [],
   "source": [
    "i = 0 \n",
    "pivot_df = prefs_df2.copy()\n",
    "\n",
    "length_data = pivot_df.shape[0]\n",
    "pivot_df[\"self_stake\"]=float(0)\n",
    "pivot_df[\"nominated_stake\"]=float(0)\n",
    "pivot_df[\"level64\"]=float(0)\n",
    "pivot_df[\"count\"]=float(0)\n",
    "pivot_df[\"oversubscribed\"]=\"no\"\n",
    "\n",
    "\n",
    "\n",
    "pivot_df[\"in_crifferent_list\"]=float(0)\n",
    "pivot_df[\"in_promoteam_list\"]=float(0)\n",
    "pivot_df[\"info\"]=\"\"\n",
    "pivot_df[\"status\"]=''\n",
    "\n",
    "pivot_df[\"id_display\"]=''\n",
    "pivot_df[\"id_web\"]=''\n",
    "pivot_df[\"id_riot\"]=''\n",
    "pivot_df[\"id_email\"]=''\n",
    "pivot_df[\"id_twitter\"]=''\n",
    "\n",
    "pivot_df[\"crifferent_name\"]=''\n",
    "pivot_df[\"crifferent_web\"]=''\n",
    "pivot_df[\"crifferent_telegram\"]=''\n",
    "pivot_df[\"crifferent_twitter\"]=''\n",
    "pivot_df[\"crifferent_mail\"]=''\n",
    "\n",
    "pivot_df[\"promoteam_name\"]=''\n",
    "pivot_df[\"promoteam_web\"]=''\n",
    "pivot_df[\"promoteam_telegram\"]=''\n",
    "\n",
    "while (i < length_data): \n",
    "    if (pivot_df.at[i, 'prefs_validator'] in cliff_df2['clifferent_address'].unique()):\n",
    "        pivot_df.at[i, 'in_crifferent_list'] = 1\n",
    "    \n",
    "    if (pivot_df.at[i, 'prefs_validator'] in promoteam_df2['promoteam_address'].unique()):\n",
    "        pivot_df.at[i, 'in_promoteam_list'] = 1\n",
    "        \n",
    "\n",
    "    if (pivot_df.at[i, 'prefs_validator'] in info_df2['info_address'].unique()):\n",
    "        pivot_df.at[i, 'info'] = info_df2[info_df2['info_address'] == pivot_df.at[i, 'prefs_validator']]['info'].unique()[0]\n",
    "        pivot_df.at[i, 'status'] = info_df2[info_df2['info_address'] == pivot_df.at[i, 'prefs_validator']]['status'].unique()[0]\n",
    "        \n",
    "    if (pivot_df.at[i, 'prefs_validator'] in piv_nomval_lock_df2_1['nv_validator'].unique()):\n",
    "        pivot_df.at[i, 'nominated_stake'] = piv_nomval_lock_df2_1[piv_nomval_lock_df2_1['nv_validator'] == pivot_df.at[i, 'prefs_validator']]['lock_stake']\n",
    "        \n",
    "        temp1 = piv_nomval_lock_df2[piv_nomval_lock_df2['nv_validator'] == pivot_df.at[i, 'prefs_validator']].sort_values(by=['lock_stake'], ascending=False)\n",
    "        temp1.reset_index(inplace=True, drop = False)\n",
    "        count1=temp1['lock_stake'].count()\n",
    "        pivot_df.at[i, 'count'] = count1\n",
    "        if (temp1['lock_stake'].count() >= 64): \n",
    "            pivot_df.at[i, 'level64']=temp1.at[63, 'lock_stake']\n",
    "            pivot_df.at[i, 'oversubscribed']='yes'\n",
    "\n",
    "    if (pivot_df.at[i, 'prefs_validator'] in lock_df2['lock_nominator'].unique()):\n",
    "        pivot_df.at[i, 'self_stake'] = lock_df2[lock_df2['lock_nominator'] == pivot_df.at[i, 'prefs_validator']]['lock_stake']\n",
    "    \n",
    "    if (pivot_df.at[i, 'prefs_validator'] in identity_df2['id_address'].unique()):\n",
    "        pivot_df.at[i, 'id_display'] = identity_df2[identity_df2['id_address'] == pivot_df.at[i, 'prefs_validator']]['id_display'].unique()[0]\n",
    "        pivot_df.at[i, 'id_web'] = identity_df2[identity_df2['id_address'] == pivot_df.at[i, 'prefs_validator']]['id_web'].unique()[0]\n",
    "        pivot_df.at[i, 'id_riot'] = identity_df2[identity_df2['id_address'] == pivot_df.at[i, 'prefs_validator']]['id_riot'].unique()[0]\n",
    "        pivot_df.at[i, 'id_email'] = identity_df2[identity_df2['id_address'] == pivot_df.at[i, 'prefs_validator']]['id_email'].unique()[0]\n",
    "        pivot_df.at[i, 'id_twitter'] = identity_df2[identity_df2['id_address'] == pivot_df.at[i, 'prefs_validator']]['id_twitter'].unique()[0]\n",
    "\n",
    "    if (pivot_df.at[i, 'prefs_validator'] in cliff_df2['clifferent_address'].unique()):\n",
    "        pivot_df.at[i, 'crifferent_name'] = cliff_df2[cliff_df2['clifferent_address'] == pivot_df.at[i, 'prefs_validator']]['crifferent_name'].unique()[0]\n",
    "        pivot_df.at[i, 'crifferent_web'] = cliff_df2[cliff_df2['clifferent_address'] == pivot_df.at[i, 'prefs_validator']]['crifferent_web'].unique()[0]\n",
    "        pivot_df.at[i, 'crifferent_telegram'] = cliff_df2[cliff_df2['clifferent_address'] == pivot_df.at[i, 'prefs_validator']]['crifferent_telegram'].unique()[0]\n",
    "        pivot_df.at[i, 'crifferent_twitter'] = cliff_df2[cliff_df2['clifferent_address'] == pivot_df.at[i, 'prefs_validator']]['crifferent_twitter'].unique()[0]\n",
    "        pivot_df.at[i, 'crifferent_mail'] = cliff_df2[cliff_df2['clifferent_address'] == pivot_df.at[i, 'prefs_validator']]['crifferent_mail'].unique()[0]\n",
    "\n",
    "    if (pivot_df.at[i, 'prefs_validator'] in promoteam_df2['promoteam_address'].unique()):\n",
    "        pivot_df.at[i, 'promoteam_name'] = promoteam_df2[promoteam_df2['promoteam_address'] == pivot_df.at[i, 'prefs_validator']]['promoteam_name'].unique()[0]\n",
    "        pivot_df.at[i, 'promoteam_web'] = promoteam_df2[promoteam_df2['promoteam_address'] == pivot_df.at[i, 'prefs_validator']]['promoteam_web'].unique()[0]\n",
    "        pivot_df.at[i, 'promoteam_telegram'] = promoteam_df2[promoteam_df2['promoteam_address'] == pivot_df.at[i, 'prefs_validator']]['promoteam_telegram'].unique()[0]\n",
    "        \n",
    "    i=i+1\n",
    "\n",
    "pivot_df[\"self_stake\"]=pivot_df[\"self_stake\"].round()\n",
    "pivot_df[\"nominated_stake\"]=pivot_df[\"nominated_stake\"].round()\n",
    "pivot_df[\"level64\"]=pivot_df[\"level64\"].round()"
   ]
  },
  {
   "cell_type": "code",
   "execution_count": 33,
   "metadata": {},
   "outputs": [],
   "source": [
    "pivot_df1=pivot_df.sort_values(by=['count'], ascending=False).copy()\n",
    "pivot_df1.reset_index(inplace=True, drop = False)"
   ]
  },
  {
   "cell_type": "code",
   "execution_count": 34,
   "metadata": {},
   "outputs": [],
   "source": [
    "pivot_df1.to_excel(\"Table1.xlsx\")  "
   ]
  },
  {
   "cell_type": "code",
   "execution_count": 35,
   "metadata": {},
   "outputs": [
    {
     "output_type": "execute_result",
     "data": {
      "text/plain": [
       "     index                                   prefs_validator  \\\n",
       "0      174  7NzHitwWA5UidhXiNJSTipSwbXgDfikKefdY9kB69sBJxPS7   \n",
       "1       16  7JhbeVC2RB49ASzNpQxZbkpKVR1dkdP7DjQhmvq4JYfx8VGq   \n",
       "2       63  7Kb7QZj8t6k8JzoLcBnC5JuS87hya6tXFNpcq5jTXPr6aQ7y   \n",
       "3      199  7NMNjF4nVE5FyA9yD1dCRKKauUDF1PkHXNt8stDhG8UKp1q8   \n",
       "4      117  7PFhBsJmEa2WnsKtpQTuT6k2utPmLDcMwpDiZ2ZV7h6fcR1x   \n",
       "..     ...                                               ...   \n",
       "232    181  7P2usrNg2P41E4CEzXFsYuz2p3FvKDMshXAJinBgaLCJYTsm   \n",
       "233    205  7LgBXBPHXL98jbwxcMa3tgDikbMyQLsScaACsSe7sfPEgn2c   \n",
       "234    187  7HqKSGMFyYeLqjeSepnwF8ymhe9UL2JjAC2i7TE8fiV4qQLq   \n",
       "235    194  7LYficCBAhaL9to2UMh1AFkh7NQK3SyDZLwoJPKTUrFa6E9b   \n",
       "236    152  7K9FMQBQzkz52y8A4aBDvTxrVwFFzrXdX49FVAVifQGZ5PN4   \n",
       "\n",
       "     prefs_commission  self_stake  nominated_stake  level64  count  \\\n",
       "0                 3.0     13154.0       21299280.0  22000.0  123.0   \n",
       "1                 1.0   5717000.0        7479641.0  17500.0  110.0   \n",
       "2                 0.0     15000.0       14333618.0  19000.0  107.0   \n",
       "3                 5.0     45000.0       10225129.0  17136.0  103.0   \n",
       "4                 0.0       100.0        8573667.0  11000.0  102.0   \n",
       "..                ...         ...              ...      ...    ...   \n",
       "232               3.0       200.0              0.0      0.0    0.0   \n",
       "233               1.0    102000.0              0.0      0.0    0.0   \n",
       "234               2.0     14000.0              0.0      0.0    0.0   \n",
       "235               0.0     16666.0              0.0      0.0    0.0   \n",
       "236               1.0     20094.0              0.0      0.0    0.0   \n",
       "\n",
       "    oversubscribed  in_crifferent_list  in_promoteam_list  ...  \\\n",
       "0              yes                 1.0                0.0  ...   \n",
       "1              yes                 0.0                1.0  ...   \n",
       "2              yes                 1.0                0.0  ...   \n",
       "3              yes                 1.0                0.0  ...   \n",
       "4              yes                 0.0                0.0  ...   \n",
       "..             ...                 ...                ...  ...   \n",
       "232             no                 0.0                0.0  ...   \n",
       "233             no                 0.0                0.0  ...   \n",
       "234             no                 0.0                0.0  ...   \n",
       "235             no                 0.0                0.0  ...   \n",
       "236             no                 0.0                0.0  ...   \n",
       "\n",
       "                      id_email   id_twitter           crifferent_name  \\\n",
       "0    simon.kraus@crifferent.de    @dev0_sik  HydraSik | crifferent.de   \n",
       "1                                                                       \n",
       "2                                              Shez | staking4all.org   \n",
       "3     adamkowal@tokenswolf.com  @TokensWolf     Adam | tokenswolf.com   \n",
       "4                                                                       \n",
       "..                         ...          ...                       ...   \n",
       "232                                                                     \n",
       "233                             @dev_enjoys                             \n",
       "234                                                                     \n",
       "235                                                                     \n",
       "236                                                                     \n",
       "\n",
       "                   crifferent_web        crifferent_telegram  \\\n",
       "0       http://www.crifferent.de/  http://www.crifferent.de/   \n",
       "1                                                              \n",
       "2    https://www.staking4all.org/       https://t.me/sheznez   \n",
       "3         https://tokenswolf.com/    https://t.me/tokenswolf   \n",
       "4                                                              \n",
       "..                            ...                        ...   \n",
       "232                                                            \n",
       "233                                                            \n",
       "234                                                            \n",
       "235                                                            \n",
       "236                                                            \n",
       "\n",
       "                      crifferent_twitter crifferent_mail    promoteam_name  \\\n",
       "0       https://www.twitter.com/dev0_sik                                     \n",
       "1                                                         doubletoptraders   \n",
       "2    https://www.twitter.com/staking4all                                     \n",
       "3     https://www.twitter.com/TokensWolf                                     \n",
       "4                                                                            \n",
       "..                                   ...             ...               ...   \n",
       "232                                                                          \n",
       "233                                                                          \n",
       "234                                                                          \n",
       "235                                                                          \n",
       "236                                                                          \n",
       "\n",
       "                    promoteam_web promoteam_telegram  \n",
       "0                                                     \n",
       "1    https://t.me/doubletop_hydra       @radist_trus  \n",
       "2                                                     \n",
       "3                                                     \n",
       "4                                                     \n",
       "..                            ...                ...  \n",
       "232                                                   \n",
       "233                                                   \n",
       "234                                                   \n",
       "235                                                   \n",
       "236                                                   \n",
       "\n",
       "[237 rows x 25 columns]"
      ],
      "text/html": "<div>\n<style scoped>\n    .dataframe tbody tr th:only-of-type {\n        vertical-align: middle;\n    }\n\n    .dataframe tbody tr th {\n        vertical-align: top;\n    }\n\n    .dataframe thead th {\n        text-align: right;\n    }\n</style>\n<table border=\"1\" class=\"dataframe\">\n  <thead>\n    <tr style=\"text-align: right;\">\n      <th></th>\n      <th>index</th>\n      <th>prefs_validator</th>\n      <th>prefs_commission</th>\n      <th>self_stake</th>\n      <th>nominated_stake</th>\n      <th>level64</th>\n      <th>count</th>\n      <th>oversubscribed</th>\n      <th>in_crifferent_list</th>\n      <th>in_promoteam_list</th>\n      <th>...</th>\n      <th>id_email</th>\n      <th>id_twitter</th>\n      <th>crifferent_name</th>\n      <th>crifferent_web</th>\n      <th>crifferent_telegram</th>\n      <th>crifferent_twitter</th>\n      <th>crifferent_mail</th>\n      <th>promoteam_name</th>\n      <th>promoteam_web</th>\n      <th>promoteam_telegram</th>\n    </tr>\n  </thead>\n  <tbody>\n    <tr>\n      <th>0</th>\n      <td>174</td>\n      <td>7NzHitwWA5UidhXiNJSTipSwbXgDfikKefdY9kB69sBJxPS7</td>\n      <td>3.0</td>\n      <td>13154.0</td>\n      <td>21299280.0</td>\n      <td>22000.0</td>\n      <td>123.0</td>\n      <td>yes</td>\n      <td>1.0</td>\n      <td>0.0</td>\n      <td>...</td>\n      <td>simon.kraus@crifferent.de</td>\n      <td>@dev0_sik</td>\n      <td>HydraSik | crifferent.de</td>\n      <td>http://www.crifferent.de/</td>\n      <td>http://www.crifferent.de/</td>\n      <td>https://www.twitter.com/dev0_sik</td>\n      <td></td>\n      <td></td>\n      <td></td>\n      <td></td>\n    </tr>\n    <tr>\n      <th>1</th>\n      <td>16</td>\n      <td>7JhbeVC2RB49ASzNpQxZbkpKVR1dkdP7DjQhmvq4JYfx8VGq</td>\n      <td>1.0</td>\n      <td>5717000.0</td>\n      <td>7479641.0</td>\n      <td>17500.0</td>\n      <td>110.0</td>\n      <td>yes</td>\n      <td>0.0</td>\n      <td>1.0</td>\n      <td>...</td>\n      <td></td>\n      <td></td>\n      <td></td>\n      <td></td>\n      <td></td>\n      <td></td>\n      <td></td>\n      <td>doubletoptraders</td>\n      <td>https://t.me/doubletop_hydra</td>\n      <td>@radist_trus</td>\n    </tr>\n    <tr>\n      <th>2</th>\n      <td>63</td>\n      <td>7Kb7QZj8t6k8JzoLcBnC5JuS87hya6tXFNpcq5jTXPr6aQ7y</td>\n      <td>0.0</td>\n      <td>15000.0</td>\n      <td>14333618.0</td>\n      <td>19000.0</td>\n      <td>107.0</td>\n      <td>yes</td>\n      <td>1.0</td>\n      <td>0.0</td>\n      <td>...</td>\n      <td></td>\n      <td></td>\n      <td>Shez | staking4all.org</td>\n      <td>https://www.staking4all.org/</td>\n      <td>https://t.me/sheznez</td>\n      <td>https://www.twitter.com/staking4all</td>\n      <td></td>\n      <td></td>\n      <td></td>\n      <td></td>\n    </tr>\n    <tr>\n      <th>3</th>\n      <td>199</td>\n      <td>7NMNjF4nVE5FyA9yD1dCRKKauUDF1PkHXNt8stDhG8UKp1q8</td>\n      <td>5.0</td>\n      <td>45000.0</td>\n      <td>10225129.0</td>\n      <td>17136.0</td>\n      <td>103.0</td>\n      <td>yes</td>\n      <td>1.0</td>\n      <td>0.0</td>\n      <td>...</td>\n      <td>adamkowal@tokenswolf.com</td>\n      <td>@TokensWolf</td>\n      <td>Adam | tokenswolf.com</td>\n      <td>https://tokenswolf.com/</td>\n      <td>https://t.me/tokenswolf</td>\n      <td>https://www.twitter.com/TokensWolf</td>\n      <td></td>\n      <td></td>\n      <td></td>\n      <td></td>\n    </tr>\n    <tr>\n      <th>4</th>\n      <td>117</td>\n      <td>7PFhBsJmEa2WnsKtpQTuT6k2utPmLDcMwpDiZ2ZV7h6fcR1x</td>\n      <td>0.0</td>\n      <td>100.0</td>\n      <td>8573667.0</td>\n      <td>11000.0</td>\n      <td>102.0</td>\n      <td>yes</td>\n      <td>0.0</td>\n      <td>0.0</td>\n      <td>...</td>\n      <td></td>\n      <td></td>\n      <td></td>\n      <td></td>\n      <td></td>\n      <td></td>\n      <td></td>\n      <td></td>\n      <td></td>\n      <td></td>\n    </tr>\n    <tr>\n      <th>...</th>\n      <td>...</td>\n      <td>...</td>\n      <td>...</td>\n      <td>...</td>\n      <td>...</td>\n      <td>...</td>\n      <td>...</td>\n      <td>...</td>\n      <td>...</td>\n      <td>...</td>\n      <td>...</td>\n      <td>...</td>\n      <td>...</td>\n      <td>...</td>\n      <td>...</td>\n      <td>...</td>\n      <td>...</td>\n      <td>...</td>\n      <td>...</td>\n      <td>...</td>\n      <td>...</td>\n    </tr>\n    <tr>\n      <th>232</th>\n      <td>181</td>\n      <td>7P2usrNg2P41E4CEzXFsYuz2p3FvKDMshXAJinBgaLCJYTsm</td>\n      <td>3.0</td>\n      <td>200.0</td>\n      <td>0.0</td>\n      <td>0.0</td>\n      <td>0.0</td>\n      <td>no</td>\n      <td>0.0</td>\n      <td>0.0</td>\n      <td>...</td>\n      <td></td>\n      <td></td>\n      <td></td>\n      <td></td>\n      <td></td>\n      <td></td>\n      <td></td>\n      <td></td>\n      <td></td>\n      <td></td>\n    </tr>\n    <tr>\n      <th>233</th>\n      <td>205</td>\n      <td>7LgBXBPHXL98jbwxcMa3tgDikbMyQLsScaACsSe7sfPEgn2c</td>\n      <td>1.0</td>\n      <td>102000.0</td>\n      <td>0.0</td>\n      <td>0.0</td>\n      <td>0.0</td>\n      <td>no</td>\n      <td>0.0</td>\n      <td>0.0</td>\n      <td>...</td>\n      <td></td>\n      <td>@dev_enjoys</td>\n      <td></td>\n      <td></td>\n      <td></td>\n      <td></td>\n      <td></td>\n      <td></td>\n      <td></td>\n      <td></td>\n    </tr>\n    <tr>\n      <th>234</th>\n      <td>187</td>\n      <td>7HqKSGMFyYeLqjeSepnwF8ymhe9UL2JjAC2i7TE8fiV4qQLq</td>\n      <td>2.0</td>\n      <td>14000.0</td>\n      <td>0.0</td>\n      <td>0.0</td>\n      <td>0.0</td>\n      <td>no</td>\n      <td>0.0</td>\n      <td>0.0</td>\n      <td>...</td>\n      <td></td>\n      <td></td>\n      <td></td>\n      <td></td>\n      <td></td>\n      <td></td>\n      <td></td>\n      <td></td>\n      <td></td>\n      <td></td>\n    </tr>\n    <tr>\n      <th>235</th>\n      <td>194</td>\n      <td>7LYficCBAhaL9to2UMh1AFkh7NQK3SyDZLwoJPKTUrFa6E9b</td>\n      <td>0.0</td>\n      <td>16666.0</td>\n      <td>0.0</td>\n      <td>0.0</td>\n      <td>0.0</td>\n      <td>no</td>\n      <td>0.0</td>\n      <td>0.0</td>\n      <td>...</td>\n      <td></td>\n      <td></td>\n      <td></td>\n      <td></td>\n      <td></td>\n      <td></td>\n      <td></td>\n      <td></td>\n      <td></td>\n      <td></td>\n    </tr>\n    <tr>\n      <th>236</th>\n      <td>152</td>\n      <td>7K9FMQBQzkz52y8A4aBDvTxrVwFFzrXdX49FVAVifQGZ5PN4</td>\n      <td>1.0</td>\n      <td>20094.0</td>\n      <td>0.0</td>\n      <td>0.0</td>\n      <td>0.0</td>\n      <td>no</td>\n      <td>0.0</td>\n      <td>0.0</td>\n      <td>...</td>\n      <td></td>\n      <td></td>\n      <td></td>\n      <td></td>\n      <td></td>\n      <td></td>\n      <td></td>\n      <td></td>\n      <td></td>\n      <td></td>\n    </tr>\n  </tbody>\n</table>\n<p>237 rows × 25 columns</p>\n</div>"
     },
     "metadata": {},
     "execution_count": 35
    }
   ],
   "source": [
    "pivot_df1"
   ]
  },
  {
   "cell_type": "code",
   "execution_count": null,
   "metadata": {},
   "outputs": [],
   "source": []
  }
 ],
 "metadata": {
  "orig_nbformat": 2,
  "file_extension": ".py",
  "mimetype": "text/x-python",
  "name": "python",
  "npconvert_exporter": "python",
  "pygments_lexer": "ipython3",
  "version": 3,
  "kernelspec": {
   "name": "python373jvsc74a57bd097ae724bfa85b9b34df7982b8bb8c7216f435b92902d749e4263f71162bea840",
   "display_name": "Python 3.7.3 64-bit ('base': conda)"
  },
  "metadata": {
   "interpreter": {
    "hash": "966127c1e3babe4fb9b66103824e5241db402bb11d0d0ce6c21af30e5c082d75"
   }
  }
 },
 "nbformat": 4,
 "nbformat_minor": 2
}